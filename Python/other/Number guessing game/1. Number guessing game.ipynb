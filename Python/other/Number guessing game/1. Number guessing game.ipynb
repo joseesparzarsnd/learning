{
 "cells": [
  {
   "cell_type": "markdown",
   "metadata": {},
   "source": [
    "# Libraries."
   ]
  },
  {
   "cell_type": "code",
   "execution_count": 1,
   "metadata": {},
   "outputs": [],
   "source": [
    "# To generate a random number within a given range.\n",
    "from random import randint as rand\n",
    "from math import log2"
   ]
  },
  {
   "cell_type": "markdown",
   "metadata": {},
   "source": [
    "The following is a function that determines if a string is numeric. This is used to validate user inputs."
   ]
  },
  {
   "cell_type": "code",
   "execution_count": 2,
   "metadata": {},
   "outputs": [],
   "source": [
    "def is_numeric(string: str) -> bool:\n",
    "    # Try to convert the string to a float\n",
    "    # If the conversion is successful, return True\n",
    "    try:\n",
    "        int(string)\n",
    "        return True\n",
    "    # If a ValueError is thrown, it means the conversion was not successful\n",
    "    # This happens when the string contains non-numeric characters\n",
    "    except ValueError:\n",
    "        return False"
   ]
  },
  {
   "cell_type": "markdown",
   "metadata": {},
   "source": [
    "# Instructions\n",
    "Welcome to the Guessing Game! This is how the program works:\n",
    "- You must provide two whole numbers to create a range for the computer to select a number from. \n",
    "- After the range is created, the computer will pick a random number from within the range.\n",
    "- After the computer picks a number, the computer will use a formula to calculate a minimum amount of attempts for you to guess correctly.\n",
    "- You win if you guess the correct number within the number of attempts the computer gave you.\n",
    "Now that you know how this works, have fun!\n",
    "\n",
    "### Some considerations.\n",
    "- All your inputs must be whole numbers. If you don't put a whole number, the computer will keep asking you to input one.\n",
    "- The numbers you provide for the range creation must not be equal. Don't worry about order, as the computer will take the smallest number you provide as the start of the range, and the biggest as the end of the range."
   ]
  },
  {
   "cell_type": "code",
   "execution_count": 11,
   "metadata": {},
   "outputs": [
    {
     "name": "stdout",
     "output_type": "stream",
     "text": [
      "--- First number of the range: 12\n",
      "--- Second number of the range: 24\n",
      "--- Number range: (12, 24)\n",
      "I've picked my number, is your turn to guess!\n",
      "You only have 4 guesses to win. Good luck!\n",
      "18 is too high\n",
      "15 is too high\n",
      "\n",
      "You win!\n",
      "You guessed the number 14 correctly in 3 guesses!\n"
     ]
    }
   ],
   "source": [
    "start = None\n",
    "end = None\n",
    "\n",
    "correct_input = False\n",
    "while correct_input is False:\n",
    "    start = input(\"Insert the beginning of the range: \")\n",
    "    correct_input = True if is_numeric(start) else False\n",
    "print(\"--- First number of the range: {}\".format(start))\n",
    "\n",
    "correct_input = False\n",
    "while correct_input is False:\n",
    "    end = input(\"Insert the end of the range: \")\n",
    "    correct_input = True if is_numeric(end) and int(start) != int(end) else False\n",
    "print(\"--- Second number of the range: {}\".format(end))\n",
    "\n",
    "if int(start) > int(end):\n",
    "    start, end = end, start\n",
    "\n",
    "print(\"--- Number range: ({}, {})\".format(start, end))\n",
    "\n",
    "to_guess = rand(int(start), int(end))\n",
    "minimum_guesses = round(log2(int(end) - int(start) + 1))\n",
    "print(\"I've picked my number, is your turn to guess!\")\n",
    "print(\"You only have {} guesses to win. Good luck!\".format(minimum_guesses))\n",
    "\n",
    "guess = None\n",
    "guesses = 0\n",
    "found = False\n",
    "\n",
    "while (guess is None or int(guess) != to_guess) and guesses < minimum_guesses:\n",
    "    guesses += 1\n",
    "    correct_input = False\n",
    "    while correct_input is False:\n",
    "        guess = input(\"Guess #{}: \".format(guesses))\n",
    "        correct_input = True if is_numeric(guess) else False\n",
    "    print(\"{} is too high\".format(guess) if int(guess) > to_guess else \"{} is too low\".format(guess) if int(guess) < to_guess else \"\\nYou win!\")\n",
    "    if (int(guess) == to_guess):\n",
    "        found = True\n",
    "\n",
    "print(\"You guessed the number {} correctly in {} guesses!\".format(to_guess, guesses) if found else \"The number was {}! Good luck next time!\".format(to_guess))"
   ]
  }
 ],
 "metadata": {
  "kernelspec": {
   "display_name": "Python 3",
   "language": "python",
   "name": "python3"
  },
  "language_info": {
   "codemirror_mode": {
    "name": "ipython",
    "version": 3
   },
   "file_extension": ".py",
   "mimetype": "text/x-python",
   "name": "python",
   "nbconvert_exporter": "python",
   "pygments_lexer": "ipython3",
   "version": "3.11.9"
  }
 },
 "nbformat": 4,
 "nbformat_minor": 2
}
