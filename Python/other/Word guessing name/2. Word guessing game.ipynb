{
 "cells": [
  {
   "cell_type": "markdown",
   "metadata": {},
   "source": [
    "# Libraries."
   ]
  },
  {
   "cell_type": "code",
   "execution_count": 2,
   "metadata": {},
   "outputs": [],
   "source": [
    "# Used to choose a random word from an array of words.\n",
    "import random"
   ]
  },
  {
   "cell_type": "markdown",
   "metadata": {},
   "source": [
    "# Code."
   ]
  },
  {
   "cell_type": "markdown",
   "metadata": {},
   "source": [
    "## Word list.\n",
    "The hidden cell contains an array containing all the words available to play. It also contains a command that makes the computer choose a random word from the word array."
   ]
  },
  {
   "cell_type": "code",
   "execution_count": 3,
   "metadata": {},
   "outputs": [],
   "source": [
    "word_list = [\"apple\", \"banana\", \"cherry\", \"date\", \"elderberry\", \"fig\", \"grape\", \"honeydew\", \"ice cream\", \"jackfruit\", \"kiwi\", \"lemon\", \n",
    "             \"mango\", \"nectarine\", \"orange\", \"pineapple\", \"quince\", \"raspberry\", \"strawberry\", \"tangerine\", \"ugli fruit\", \"victoria plum\", \n",
    "             \"watermelon\", \"xigua\", \"yellow passionfruit\", \"zucchini\", \"apricot\", \"blueberry\", \"cantaloupe\", \"dragon fruit\", \"eggplant\", \n",
    "             \"garlic\", \"hazelnut\", \"iceberg lettuce\", \"jalapeño\", \"kale\", \"leek\", \"macadamia\", \"nectar\", \"okra\", \"parsnip\", \"quinoa\", \n",
    "             \"radish\", \"shallot\", \"taro\", \"ugli\", \"valerian\", \"watercress\", \"xanthan\", \"yardlong bean\", \"zest\", \"acorn\", \"artichoke\", \n",
    "             \"basil\", \"beet\", \"bok choy\", \"carrot\", \"celery\", \"chive\", \"clementine\", \"cucumber\", \"dill\", \"endive\", \"fennel\", \"ginger\", \n",
    "             \"horseradish\"]\n",
    "\n",
    "word = random.choice(word_list)"
   ]
  },
  {
   "cell_type": "markdown",
   "metadata": {},
   "source": [
    "## Game.\n",
    "\n",
    "### Instructions.\n",
    "The computer will randomly choose a word from an array containing a bunch of words. It will also calculate an amount of guesses or attempts that you'll have to guess the word correctly. Your task is to guess the word within the number of attempts the computer gives you, otherwise you'll lose.\n",
    "\n",
    "### Some considerations.\n",
    "- The words the computer can choose mainly refer to fruits, but there's also other produce.\n",
    "- Some fruits and vegetable names consist of two words, so you'll have to guess two words instead of one.\n",
    "- The amount of tries you'll have to guess the word is twice the amount of the unique characters in said word (so, for example, if your word is 'apple', which has only four unique characters, you'll have eight tries, or if your word is 'banana' you'll have only six guesses)."
   ]
  },
  {
   "cell_type": "code",
   "execution_count": 6,
   "metadata": {},
   "outputs": [
    {
     "name": "stdout",
     "output_type": "stream",
     "text": [
      "Guess the characters that make up this word!\n",
      "_ _ _ _ _ _ \n",
      "You have 6 turns to guess the word.\n",
      "b _ _ _ _ _\n",
      "b a _ a _ a\n",
      "b a n a n a\n",
      "You guessed the word \"banana\" correctly!\n"
     ]
    }
   ],
   "source": [
    "print(\"Guess the characters that make up this word!\")\n",
    "spaces = [\"_\"] * len(word)\n",
    "\n",
    "if (\" \" in word):\n",
    "    for i in range(len(word)):\n",
    "        if word[i] == \" \":\n",
    "            spaces[i] = \" \"\n",
    "\n",
    "for space in spaces: \n",
    "    print(space, end = \" \")\n",
    "print()\n",
    "complete = False\n",
    "turns = len(set(word)) * 2     # why that, idk.\n",
    "\n",
    "print(\"You have {} turns to guess the word.\".format(turns))\n",
    "while not complete or turns == 0:\n",
    "    character = input(\"Enter a singular character: \")\n",
    "    if len(character) > 1:\n",
    "        character = character[0]\n",
    "\n",
    "    for i in range(len(word)):\n",
    "        if word[i] == character:\n",
    "            spaces[i] = character\n",
    "\n",
    "    print(\" \".join(spaces))\n",
    "    turns -= 1\n",
    "\n",
    "    if \"_\" not in spaces or turns == 0:\n",
    "        complete = True \n",
    "        if \"_\" not in spaces:\n",
    "            print(\"You guessed the word \\\"{}\\\" correctly!\".format(word))\n",
    "        else:\n",
    "            print(\"You ran out of turns. The word was \\\"{}\\\".\".format(word))\n",
    "        break\n"
   ]
  }
 ],
 "metadata": {
  "kernelspec": {
   "display_name": "Python 3",
   "language": "python",
   "name": "python3"
  },
  "language_info": {
   "codemirror_mode": {
    "name": "ipython",
    "version": 3
   },
   "file_extension": ".py",
   "mimetype": "text/x-python",
   "name": "python",
   "nbconvert_exporter": "python",
   "pygments_lexer": "ipython3",
   "version": "3.11.9"
  }
 },
 "nbformat": 4,
 "nbformat_minor": 2
}
