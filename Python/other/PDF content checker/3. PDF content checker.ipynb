{
 "cells": [
  {
   "cell_type": "markdown",
   "metadata": {},
   "source": [
    "# Libraries."
   ]
  },
  {
   "cell_type": "code",
   "execution_count": 17,
   "metadata": {},
   "outputs": [],
   "source": [
    "# For file hashing, reading and comparing.\n",
    "import hashlib \n",
    "\n",
    "# For file existence checking.\n",
    "from os import path as path"
   ]
  },
  {
   "cell_type": "markdown",
   "metadata": {},
   "source": [
    "# Code.\n",
    "\n",
    "## Functions.\n",
    "The following cell contains the functions defined to make the code work."
   ]
  },
  {
   "cell_type": "code",
   "execution_count": 18,
   "metadata": {},
   "outputs": [],
   "source": [
    "def isFileContentEqual(file_a, file_b):\n",
    "    '''\n",
    "    Checks if two files are the same by reading and comparing their contents. \n",
    "    Returns True if both files have the same contents, False otherwise.\n",
    "\n",
    "    Args:\n",
    "        file_a (str): First file to compare.\n",
    "        file_b (str): Second file to compare.\n",
    "    '''\n",
    "    h1 = hashlib.sha1()\n",
    "    h2 = hashlib.sha1()\n",
    "    with open(file_a, 'rb') as f:\n",
    "        for chunk in iter(lambda: f.read(4096), b\"\"):\n",
    "            h1.update(chunk)\n",
    "    with open(file_b, 'rb') as f:\n",
    "        for chunk in iter(lambda: f.read(4096), b\"\"):\n",
    "            h2.update(chunk)\n",
    "    return h1.hexdigest() == h2.hexdigest()\n",
    "\n",
    "def inputFileName():\n",
    "    '''\n",
    "    Asks the user to input a proper file name, then checks that said file exists. \n",
    "    If it does not, the user is asked to try again until a valid file name is given.\n",
    "\n",
    "    Returns the file name once it has been validated.\n",
    "    '''\n",
    "    correct = False\n",
    "    while not correct:\n",
    "        file_name = input(\"Input the name of the file: \")\n",
    "        file_name = \"files/\" + file_name\n",
    "        if path.isfile(file_name):\n",
    "            correct = True\n",
    "            break\n",
    "        else:\n",
    "            print(\"The file \\\"{}\\\" does not exist. Try again.\".format(file_name))\n",
    "    return file_name"
   ]
  },
  {
   "cell_type": "markdown",
   "metadata": {},
   "source": [
    "## Instructions.\n",
    "Insert the files you want to compare in the \"files\" folder. Then, run the code and input the names of the files you want to compare. Once you input the names, the content of the files will be compared and the results will be printed.\n",
    "\n",
    "## Considerations.\n",
    "- If, for whatever reason, the file is not found, the computer will keep asking you to input the name of an existing file.\n",
    "- Make sure to include the extension of the file too.\n",
    "- The files must be inside the \"files\" folder, otherwise the code will break.\n",
    "- The input must be ONLY the name of the file and its extension. The folder name is not necessary, as all files should be inside the \"files\" folder. "
   ]
  },
  {
   "cell_type": "code",
   "execution_count": 19,
   "metadata": {},
   "outputs": [
    {
     "name": "stdout",
     "output_type": "stream",
     "text": [
      "The file \"files/file_C\" does not exist. Try again.\n",
      "The file \"files/file_N\" does not exist. Try again.\n",
      "Checking and comparing \"files/file_C.pdf\" and \"files/file_E.pdf\" file contents...\n",
      "File contents are not equal.\n"
     ]
    }
   ],
   "source": [
    "file_a = inputFileName()\n",
    "file_b = inputFileName()\n",
    "\n",
    "print(\"Checking and comparing \\\"{}\\\" and \\\"{}\\\" file contents...\".format(file_a, file_b))\n",
    "if isFileContentEqual(file_a, file_b):\n",
    "    print(\"File contents are equal.\")\n",
    "else:\n",
    "    print(\"File contents are not equal.\")"
   ]
  }
 ],
 "metadata": {
  "kernelspec": {
   "display_name": "Python 3",
   "language": "python",
   "name": "python3"
  },
  "language_info": {
   "codemirror_mode": {
    "name": "ipython",
    "version": 3
   },
   "file_extension": ".py",
   "mimetype": "text/x-python",
   "name": "python",
   "nbconvert_exporter": "python",
   "pygments_lexer": "ipython3",
   "version": "3.11.9"
  }
 },
 "nbformat": 4,
 "nbformat_minor": 2
}
