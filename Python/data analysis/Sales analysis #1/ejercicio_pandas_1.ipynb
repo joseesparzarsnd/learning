{
 "cells": [
  {
   "cell_type": "markdown",
   "metadata": {},
   "source": [
    "### Instalación de librerías.\n",
    "Instalación de librería fastparquet para lectura de archivos de extensión parquet."
   ]
  },
  {
   "cell_type": "code",
   "execution_count": 60,
   "metadata": {},
   "outputs": [
    {
     "name": "stdout",
     "output_type": "stream",
     "text": [
      "Requirement already satisfied: fastparquet in c:\\users\\d&c\\appdata\\local\\packages\\pythonsoftwarefoundation.python.3.11_qbz5n2kfra8p0\\localcache\\local-packages\\python311\\site-packages (2024.5.0)\n",
      "Requirement already satisfied: pandas>=1.5.0 in c:\\users\\d&c\\appdata\\local\\packages\\pythonsoftwarefoundation.python.3.11_qbz5n2kfra8p0\\localcache\\local-packages\\python311\\site-packages (from fastparquet) (2.2.2)\n",
      "Requirement already satisfied: numpy in c:\\users\\d&c\\appdata\\local\\packages\\pythonsoftwarefoundation.python.3.11_qbz5n2kfra8p0\\localcache\\local-packages\\python311\\site-packages (from fastparquet) (2.0.0)\n",
      "Requirement already satisfied: cramjam>=2.3 in c:\\users\\d&c\\appdata\\local\\packages\\pythonsoftwarefoundation.python.3.11_qbz5n2kfra8p0\\localcache\\local-packages\\python311\\site-packages (from fastparquet) (2.8.3)\n",
      "Requirement already satisfied: fsspec in c:\\users\\d&c\\appdata\\local\\packages\\pythonsoftwarefoundation.python.3.11_qbz5n2kfra8p0\\localcache\\local-packages\\python311\\site-packages (from fastparquet) (2024.6.1)\n",
      "Requirement already satisfied: packaging in c:\\users\\d&c\\appdata\\local\\packages\\pythonsoftwarefoundation.python.3.11_qbz5n2kfra8p0\\localcache\\local-packages\\python311\\site-packages (from fastparquet) (24.1)\n",
      "Requirement already satisfied: python-dateutil>=2.8.2 in c:\\users\\d&c\\appdata\\local\\packages\\pythonsoftwarefoundation.python.3.11_qbz5n2kfra8p0\\localcache\\local-packages\\python311\\site-packages (from pandas>=1.5.0->fastparquet) (2.9.0.post0)\n",
      "Requirement already satisfied: pytz>=2020.1 in c:\\users\\d&c\\appdata\\local\\packages\\pythonsoftwarefoundation.python.3.11_qbz5n2kfra8p0\\localcache\\local-packages\\python311\\site-packages (from pandas>=1.5.0->fastparquet) (2024.1)\n",
      "Requirement already satisfied: tzdata>=2022.7 in c:\\users\\d&c\\appdata\\local\\packages\\pythonsoftwarefoundation.python.3.11_qbz5n2kfra8p0\\localcache\\local-packages\\python311\\site-packages (from pandas>=1.5.0->fastparquet) (2024.1)\n",
      "Requirement already satisfied: six>=1.5 in c:\\users\\d&c\\appdata\\local\\packages\\pythonsoftwarefoundation.python.3.11_qbz5n2kfra8p0\\localcache\\local-packages\\python311\\site-packages (from python-dateutil>=2.8.2->pandas>=1.5.0->fastparquet) (1.16.0)\n"
     ]
    },
    {
     "name": "stderr",
     "output_type": "stream",
     "text": [
      "\n",
      "[notice] A new release of pip is available: 24.1.1 -> 24.1.2\n",
      "[notice] To update, run: C:\\Users\\D&C\\AppData\\Local\\Microsoft\\WindowsApps\\PythonSoftwareFoundation.Python.3.11_qbz5n2kfra8p0\\python.exe -m pip install --upgrade pip\n"
     ]
    },
    {
     "name": "stdout",
     "output_type": "stream",
     "text": [
      "Requirement already satisfied: openpyxl in c:\\users\\d&c\\appdata\\local\\packages\\pythonsoftwarefoundation.python.3.11_qbz5n2kfra8p0\\localcache\\local-packages\\python311\\site-packages (3.1.5)\n",
      "Requirement already satisfied: et-xmlfile in c:\\users\\d&c\\appdata\\local\\packages\\pythonsoftwarefoundation.python.3.11_qbz5n2kfra8p0\\localcache\\local-packages\\python311\\site-packages (from openpyxl) (1.1.0)\n"
     ]
    },
    {
     "name": "stderr",
     "output_type": "stream",
     "text": [
      "\n",
      "[notice] A new release of pip is available: 24.1.1 -> 24.1.2\n",
      "[notice] To update, run: C:\\Users\\D&C\\AppData\\Local\\Microsoft\\WindowsApps\\PythonSoftwareFoundation.Python.3.11_qbz5n2kfra8p0\\python.exe -m pip install --upgrade pip\n"
     ]
    }
   ],
   "source": [
    "%pip install fastparquet\n",
    "%pip install openpyxl"
   ]
  },
  {
   "cell_type": "markdown",
   "metadata": {},
   "source": [
    "### Librerías."
   ]
  },
  {
   "cell_type": "code",
   "execution_count": 61,
   "metadata": {},
   "outputs": [],
   "source": [
    "# Para trabajar con dataframes.\n",
    "import pandas as pd\n",
    "from pandas.io.formats.excel import ExcelFormatter \n",
    "# Para la creación de gráficas.\n",
    "import seaborn as sns\n",
    "import matplotlib.pyplot as plt\n",
    "# Para verificar la existencia de archivos.\n",
    "import os.path"
   ]
  },
  {
   "cell_type": "markdown",
   "metadata": {},
   "source": [
    "### Lectura y conversión de archivos a dataframe."
   ]
  },
  {
   "cell_type": "code",
   "execution_count": 62,
   "metadata": {},
   "outputs": [
    {
     "name": "stdout",
     "output_type": "stream",
     "text": [
      "El archivo 'files/productos.csv' fue convertido con éxito.\n",
      "El archivo 'files/ventas_2023.parquet' fue convertido con éxito.\n",
      "El archivo 'files/ventas_2024.parquet' fue convertido con éxito.\n"
     ]
    }
   ],
   "source": [
    "# Convertir archivos a dataframes.\n",
    "def convert_to_df(file_path):\n",
    "    try:\n",
    "        # Leer archivo y pasarlo a dataframe. Usar read_csv o read_parquet dependiendo de la extensión del archivo.\n",
    "        df = pd.read_csv(file_path) if \"csv\" in file_path else pd.read_parquet(file_path)\n",
    "    except:\n",
    "        # Imprimir mensaje de error dependiendo de la extensión del archivo.\n",
    "        print(\"Error: El archivo '{}' no se pudo convertir a dataframe ya que está vacío\".format(file_path))\n",
    "    else:\n",
    "        # Imprimir mensaje de éxito.\n",
    "        print(\"El archivo '{}' fue convertido con éxito.\".format(file_path))\n",
    "        # Devolver dataframe.\n",
    "        return df\n",
    "\n",
    "# Revisar que el archivo exista.\n",
    "def file_check(file_path):\n",
    "    error_msg = \"Error: No se encontró el archivo '{}'. Por favor, revise que el archivo exista y/o que tenga el nombre adecuado.\".format(file_path)\n",
    "    # Llamar a la función convert_to_df con el nombre del archivo si el archivo existe, de lo contrario imprimir mensaje de error.\n",
    "    return convert_to_df(file_path) if os.path.exists(file_path) is True else print(error_msg)\n",
    "\n",
    "# Obtener dataframes a partir de los archivos.\n",
    "prod_df = file_check(\"files/productos.csv\")\n",
    "v2023_df = file_check(\"files/ventas_2023.parquet\")\n",
    "v2024_df = file_check(\"files/ventas_2024.parquet\")"
   ]
  },
  {
   "cell_type": "markdown",
   "metadata": {},
   "source": [
    "### Esquema y vista previa de los dataframes."
   ]
  },
  {
   "cell_type": "code",
   "execution_count": 63,
   "metadata": {},
   "outputs": [
    {
     "name": "stdout",
     "output_type": "stream",
     "text": [
      "<class 'pandas.core.frame.DataFrame'>\n",
      "RangeIndex: 5 entries, 0 to 4\n",
      "Data columns (total 4 columns):\n",
      " #   Column       Non-Null Count  Dtype \n",
      "---  ------       --------------  ----- \n",
      " 0   producto_id  5 non-null      int64 \n",
      " 1   nombre       5 non-null      object\n",
      " 2   categoria    5 non-null      object\n",
      " 3   precio       5 non-null      int64 \n",
      "dtypes: int64(2), object(2)\n",
      "memory usage: 292.0+ bytes\n"
     ]
    },
    {
     "data": {
      "text/html": [
       "<div>\n",
       "<style scoped>\n",
       "    .dataframe tbody tr th:only-of-type {\n",
       "        vertical-align: middle;\n",
       "    }\n",
       "\n",
       "    .dataframe tbody tr th {\n",
       "        vertical-align: top;\n",
       "    }\n",
       "\n",
       "    .dataframe thead th {\n",
       "        text-align: right;\n",
       "    }\n",
       "</style>\n",
       "<table border=\"1\" class=\"dataframe\">\n",
       "  <thead>\n",
       "    <tr style=\"text-align: right;\">\n",
       "      <th></th>\n",
       "      <th>producto_id</th>\n",
       "      <th>nombre</th>\n",
       "      <th>categoria</th>\n",
       "      <th>precio</th>\n",
       "    </tr>\n",
       "  </thead>\n",
       "  <tbody>\n",
       "    <tr>\n",
       "      <th>0</th>\n",
       "      <td>1</td>\n",
       "      <td>Producto A</td>\n",
       "      <td>Electronica</td>\n",
       "      <td>100</td>\n",
       "    </tr>\n",
       "    <tr>\n",
       "      <th>1</th>\n",
       "      <td>2</td>\n",
       "      <td>Producto B</td>\n",
       "      <td>Electronica</td>\n",
       "      <td>150</td>\n",
       "    </tr>\n",
       "    <tr>\n",
       "      <th>2</th>\n",
       "      <td>3</td>\n",
       "      <td>Producto C</td>\n",
       "      <td>Ropa</td>\n",
       "      <td>50</td>\n",
       "    </tr>\n",
       "    <tr>\n",
       "      <th>3</th>\n",
       "      <td>4</td>\n",
       "      <td>Producto D</td>\n",
       "      <td>Ropa</td>\n",
       "      <td>80</td>\n",
       "    </tr>\n",
       "    <tr>\n",
       "      <th>4</th>\n",
       "      <td>5</td>\n",
       "      <td>Producto E</td>\n",
       "      <td>Hogar</td>\n",
       "      <td>120</td>\n",
       "    </tr>\n",
       "  </tbody>\n",
       "</table>\n",
       "</div>"
      ],
      "text/plain": [
       "   producto_id      nombre    categoria  precio\n",
       "0            1  Producto A  Electronica     100\n",
       "1            2  Producto B  Electronica     150\n",
       "2            3  Producto C         Ropa      50\n",
       "3            4  Producto D         Ropa      80\n",
       "4            5  Producto E        Hogar     120"
      ]
     },
     "execution_count": 63,
     "metadata": {},
     "output_type": "execute_result"
    }
   ],
   "source": [
    "# Esquema.\n",
    "prod_df.info()\n",
    "# Vista previa.\n",
    "prod_df.head()"
   ]
  },
  {
   "cell_type": "code",
   "execution_count": 64,
   "metadata": {},
   "outputs": [
    {
     "name": "stdout",
     "output_type": "stream",
     "text": [
      "<class 'pandas.core.frame.DataFrame'>\n",
      "RangeIndex: 5 entries, 0 to 4\n",
      "Data columns (total 4 columns):\n",
      " #   Column       Non-Null Count  Dtype \n",
      "---  ------       --------------  ----- \n",
      " 0   venta_id     5 non-null      int64 \n",
      " 1   producto_id  5 non-null      int64 \n",
      " 2   cantidad     5 non-null      int64 \n",
      " 3   fecha_venta  5 non-null      object\n",
      "dtypes: int64(3), object(1)\n",
      "memory usage: 292.0+ bytes\n"
     ]
    },
    {
     "data": {
      "text/html": [
       "<div>\n",
       "<style scoped>\n",
       "    .dataframe tbody tr th:only-of-type {\n",
       "        vertical-align: middle;\n",
       "    }\n",
       "\n",
       "    .dataframe tbody tr th {\n",
       "        vertical-align: top;\n",
       "    }\n",
       "\n",
       "    .dataframe thead th {\n",
       "        text-align: right;\n",
       "    }\n",
       "</style>\n",
       "<table border=\"1\" class=\"dataframe\">\n",
       "  <thead>\n",
       "    <tr style=\"text-align: right;\">\n",
       "      <th></th>\n",
       "      <th>venta_id</th>\n",
       "      <th>producto_id</th>\n",
       "      <th>cantidad</th>\n",
       "      <th>fecha_venta</th>\n",
       "    </tr>\n",
       "  </thead>\n",
       "  <tbody>\n",
       "    <tr>\n",
       "      <th>0</th>\n",
       "      <td>101</td>\n",
       "      <td>1</td>\n",
       "      <td>10</td>\n",
       "      <td>2023-01-10</td>\n",
       "    </tr>\n",
       "    <tr>\n",
       "      <th>1</th>\n",
       "      <td>102</td>\n",
       "      <td>2</td>\n",
       "      <td>5</td>\n",
       "      <td>2023-02-15</td>\n",
       "    </tr>\n",
       "    <tr>\n",
       "      <th>2</th>\n",
       "      <td>103</td>\n",
       "      <td>3</td>\n",
       "      <td>8</td>\n",
       "      <td>2023-03-20</td>\n",
       "    </tr>\n",
       "    <tr>\n",
       "      <th>3</th>\n",
       "      <td>104</td>\n",
       "      <td>4</td>\n",
       "      <td>3</td>\n",
       "      <td>2023-04-25</td>\n",
       "    </tr>\n",
       "    <tr>\n",
       "      <th>4</th>\n",
       "      <td>105</td>\n",
       "      <td>5</td>\n",
       "      <td>7</td>\n",
       "      <td>2023-05-30</td>\n",
       "    </tr>\n",
       "  </tbody>\n",
       "</table>\n",
       "</div>"
      ],
      "text/plain": [
       "   venta_id  producto_id  cantidad fecha_venta\n",
       "0       101            1        10  2023-01-10\n",
       "1       102            2         5  2023-02-15\n",
       "2       103            3         8  2023-03-20\n",
       "3       104            4         3  2023-04-25\n",
       "4       105            5         7  2023-05-30"
      ]
     },
     "execution_count": 64,
     "metadata": {},
     "output_type": "execute_result"
    }
   ],
   "source": [
    "# Esquema.\n",
    "v2023_df.info()\n",
    "# Vista previa.\n",
    "v2023_df.head()"
   ]
  },
  {
   "cell_type": "code",
   "execution_count": 65,
   "metadata": {},
   "outputs": [
    {
     "name": "stdout",
     "output_type": "stream",
     "text": [
      "<class 'pandas.core.frame.DataFrame'>\n",
      "RangeIndex: 5 entries, 0 to 4\n",
      "Data columns (total 4 columns):\n",
      " #   Column       Non-Null Count  Dtype \n",
      "---  ------       --------------  ----- \n",
      " 0   venta_id     5 non-null      int64 \n",
      " 1   producto_id  5 non-null      int64 \n",
      " 2   cantidad     5 non-null      int64 \n",
      " 3   fecha_venta  5 non-null      object\n",
      "dtypes: int64(3), object(1)\n",
      "memory usage: 292.0+ bytes\n"
     ]
    },
    {
     "data": {
      "text/html": [
       "<div>\n",
       "<style scoped>\n",
       "    .dataframe tbody tr th:only-of-type {\n",
       "        vertical-align: middle;\n",
       "    }\n",
       "\n",
       "    .dataframe tbody tr th {\n",
       "        vertical-align: top;\n",
       "    }\n",
       "\n",
       "    .dataframe thead th {\n",
       "        text-align: right;\n",
       "    }\n",
       "</style>\n",
       "<table border=\"1\" class=\"dataframe\">\n",
       "  <thead>\n",
       "    <tr style=\"text-align: right;\">\n",
       "      <th></th>\n",
       "      <th>venta_id</th>\n",
       "      <th>producto_id</th>\n",
       "      <th>cantidad</th>\n",
       "      <th>fecha_venta</th>\n",
       "    </tr>\n",
       "  </thead>\n",
       "  <tbody>\n",
       "    <tr>\n",
       "      <th>0</th>\n",
       "      <td>201</td>\n",
       "      <td>1</td>\n",
       "      <td>6</td>\n",
       "      <td>2024-01-12</td>\n",
       "    </tr>\n",
       "    <tr>\n",
       "      <th>1</th>\n",
       "      <td>202</td>\n",
       "      <td>2</td>\n",
       "      <td>4</td>\n",
       "      <td>2024-02-18</td>\n",
       "    </tr>\n",
       "    <tr>\n",
       "      <th>2</th>\n",
       "      <td>203</td>\n",
       "      <td>3</td>\n",
       "      <td>9</td>\n",
       "      <td>2024-03-22</td>\n",
       "    </tr>\n",
       "    <tr>\n",
       "      <th>3</th>\n",
       "      <td>204</td>\n",
       "      <td>4</td>\n",
       "      <td>2</td>\n",
       "      <td>2024-04-28</td>\n",
       "    </tr>\n",
       "    <tr>\n",
       "      <th>4</th>\n",
       "      <td>205</td>\n",
       "      <td>5</td>\n",
       "      <td>8</td>\n",
       "      <td>2024-05-31</td>\n",
       "    </tr>\n",
       "  </tbody>\n",
       "</table>\n",
       "</div>"
      ],
      "text/plain": [
       "   venta_id  producto_id  cantidad fecha_venta\n",
       "0       201            1         6  2024-01-12\n",
       "1       202            2         4  2024-02-18\n",
       "2       203            3         9  2024-03-22\n",
       "3       204            4         2  2024-04-28\n",
       "4       205            5         8  2024-05-31"
      ]
     },
     "execution_count": 65,
     "metadata": {},
     "output_type": "execute_result"
    }
   ],
   "source": [
    "# Esquema.\n",
    "v2024_df.info()\n",
    "# Vista previa.\n",
    "v2024_df.head()"
   ]
  },
  {
   "cell_type": "markdown",
   "metadata": {},
   "source": [
    "### Combinar datos de ventas"
   ]
  },
  {
   "cell_type": "code",
   "execution_count": 66,
   "metadata": {},
   "outputs": [
    {
     "name": "stdout",
     "output_type": "stream",
     "text": [
      "0    False\n",
      "1    False\n",
      "2    False\n",
      "3    False\n",
      "4    False\n",
      "0    False\n",
      "1    False\n",
      "2    False\n",
      "3    False\n",
      "4    False\n",
      "dtype: bool\n"
     ]
    }
   ],
   "source": [
    "# Concatenar dataframes.\n",
    "ventas_df = pd.concat([v2023_df, v2024_df])\n",
    "# Validar que no haya valores duplicados.\n",
    "print(ventas_df.duplicated())"
   ]
  },
  {
   "cell_type": "code",
   "execution_count": 67,
   "metadata": {},
   "outputs": [
    {
     "name": "stdout",
     "output_type": "stream",
     "text": [
      "\n",
      "Filas en la tabla combinada: 10\n",
      "Filas en las tablas anteriores: 5 en ventas_2023 y 5 en ventas_2024.\n"
     ]
    },
    {
     "data": {
      "text/html": [
       "<div>\n",
       "<style scoped>\n",
       "    .dataframe tbody tr th:only-of-type {\n",
       "        vertical-align: middle;\n",
       "    }\n",
       "\n",
       "    .dataframe tbody tr th {\n",
       "        vertical-align: top;\n",
       "    }\n",
       "\n",
       "    .dataframe thead th {\n",
       "        text-align: right;\n",
       "    }\n",
       "</style>\n",
       "<table border=\"1\" class=\"dataframe\">\n",
       "  <thead>\n",
       "    <tr style=\"text-align: right;\">\n",
       "      <th></th>\n",
       "      <th>venta_id</th>\n",
       "      <th>producto_id</th>\n",
       "      <th>cantidad</th>\n",
       "      <th>fecha_venta</th>\n",
       "    </tr>\n",
       "  </thead>\n",
       "  <tbody>\n",
       "    <tr>\n",
       "      <th>0</th>\n",
       "      <td>101</td>\n",
       "      <td>1</td>\n",
       "      <td>10</td>\n",
       "      <td>2023-01-10</td>\n",
       "    </tr>\n",
       "    <tr>\n",
       "      <th>1</th>\n",
       "      <td>102</td>\n",
       "      <td>2</td>\n",
       "      <td>5</td>\n",
       "      <td>2023-02-15</td>\n",
       "    </tr>\n",
       "    <tr>\n",
       "      <th>2</th>\n",
       "      <td>103</td>\n",
       "      <td>3</td>\n",
       "      <td>8</td>\n",
       "      <td>2023-03-20</td>\n",
       "    </tr>\n",
       "    <tr>\n",
       "      <th>3</th>\n",
       "      <td>104</td>\n",
       "      <td>4</td>\n",
       "      <td>3</td>\n",
       "      <td>2023-04-25</td>\n",
       "    </tr>\n",
       "    <tr>\n",
       "      <th>4</th>\n",
       "      <td>105</td>\n",
       "      <td>5</td>\n",
       "      <td>7</td>\n",
       "      <td>2023-05-30</td>\n",
       "    </tr>\n",
       "    <tr>\n",
       "      <th>0</th>\n",
       "      <td>201</td>\n",
       "      <td>1</td>\n",
       "      <td>6</td>\n",
       "      <td>2024-01-12</td>\n",
       "    </tr>\n",
       "    <tr>\n",
       "      <th>1</th>\n",
       "      <td>202</td>\n",
       "      <td>2</td>\n",
       "      <td>4</td>\n",
       "      <td>2024-02-18</td>\n",
       "    </tr>\n",
       "    <tr>\n",
       "      <th>2</th>\n",
       "      <td>203</td>\n",
       "      <td>3</td>\n",
       "      <td>9</td>\n",
       "      <td>2024-03-22</td>\n",
       "    </tr>\n",
       "    <tr>\n",
       "      <th>3</th>\n",
       "      <td>204</td>\n",
       "      <td>4</td>\n",
       "      <td>2</td>\n",
       "      <td>2024-04-28</td>\n",
       "    </tr>\n",
       "    <tr>\n",
       "      <th>4</th>\n",
       "      <td>205</td>\n",
       "      <td>5</td>\n",
       "      <td>8</td>\n",
       "      <td>2024-05-31</td>\n",
       "    </tr>\n",
       "  </tbody>\n",
       "</table>\n",
       "</div>"
      ],
      "text/plain": [
       "   venta_id  producto_id  cantidad fecha_venta\n",
       "0       101            1        10  2023-01-10\n",
       "1       102            2         5  2023-02-15\n",
       "2       103            3         8  2023-03-20\n",
       "3       104            4         3  2023-04-25\n",
       "4       105            5         7  2023-05-30\n",
       "0       201            1         6  2024-01-12\n",
       "1       202            2         4  2024-02-18\n",
       "2       203            3         9  2024-03-22\n",
       "3       204            4         2  2024-04-28\n",
       "4       205            5         8  2024-05-31"
      ]
     },
     "execution_count": 67,
     "metadata": {},
     "output_type": "execute_result"
    }
   ],
   "source": [
    "# Almacenar el número de filas de los dataframes de ventas en variables para auditoría.\n",
    "f_ventas_df = ventas_df.shape[0]\n",
    "f_v2023_df = v2023_df.shape[0]\n",
    "f_v2024_df = v2024_df.shape[0]\n",
    "# Imprimir la cantidad de filas en la tabla combinada vs. las tablas por separado.\n",
    "print(\"\\nFilas en la tabla combinada: {}\\nFilas en las tablas anteriores: {} en ventas_2023 y {} en ventas_2024.\"\n",
    "      .format(f_ventas_df, f_v2023_df, f_v2024_df))\n",
    "# Imprimir dataframe combinado.\n",
    "ventas_df"
   ]
  },
  {
   "cell_type": "markdown",
   "metadata": {},
   "source": [
    "### Eliminar columnas innecesarias."
   ]
  },
  {
   "cell_type": "code",
   "execution_count": 68,
   "metadata": {},
   "outputs": [],
   "source": [
    "# Crear variable para almacenar el log de la columna eliminada.\n",
    "del_log = None"
   ]
  },
  {
   "cell_type": "code",
   "execution_count": 69,
   "metadata": {},
   "outputs": [
    {
     "name": "stdout",
     "output_type": "stream",
     "text": [
      "La columna 'venta_id' fue eliminada.\n"
     ]
    }
   ],
   "source": [
    "# Revisar si una columna existe o no en un dataframe.\n",
    "def check_for_column(dataframe, column):\n",
    "    try:\n",
    "        # Buscar la columna en el dataframe.\n",
    "        dataframe[column]\n",
    "    except KeyError:\n",
    "        # Regresar Falso si hay un error.\n",
    "        return False\n",
    "    else:\n",
    "        # Regresar Verdadero si la columna existe.\n",
    "        return True\n",
    "\n",
    "# Revisar si la columna existe en el dataframe.\n",
    "if check_for_column(ventas_df, \"venta_id\") is False:\n",
    "    # Imprimir que la columna no existe.\n",
    "    print(\"La columna no existe.\")\n",
    "else:\n",
    "    # Hacer un log de la columna eliminada.\n",
    "    del_log = ventas_df[\"venta_id\"]\n",
    "    # Quitar la columna del dataframe.\n",
    "    ventas_df = ventas_df.drop([\"venta_id\"], axis = \"columns\")\n",
    "    # Imprimir mensaje de operación exitosa.\n",
    "    print(\"La columna 'venta_id' fue eliminada.\")"
   ]
  },
  {
   "cell_type": "code",
   "execution_count": 70,
   "metadata": {},
   "outputs": [
    {
     "data": {
      "text/html": [
       "<div>\n",
       "<style scoped>\n",
       "    .dataframe tbody tr th:only-of-type {\n",
       "        vertical-align: middle;\n",
       "    }\n",
       "\n",
       "    .dataframe tbody tr th {\n",
       "        vertical-align: top;\n",
       "    }\n",
       "\n",
       "    .dataframe thead th {\n",
       "        text-align: right;\n",
       "    }\n",
       "</style>\n",
       "<table border=\"1\" class=\"dataframe\">\n",
       "  <thead>\n",
       "    <tr style=\"text-align: right;\">\n",
       "      <th></th>\n",
       "      <th>producto_id</th>\n",
       "      <th>cantidad</th>\n",
       "      <th>fecha_venta</th>\n",
       "    </tr>\n",
       "  </thead>\n",
       "  <tbody>\n",
       "    <tr>\n",
       "      <th>0</th>\n",
       "      <td>1</td>\n",
       "      <td>10</td>\n",
       "      <td>2023-01-10</td>\n",
       "    </tr>\n",
       "    <tr>\n",
       "      <th>1</th>\n",
       "      <td>2</td>\n",
       "      <td>5</td>\n",
       "      <td>2023-02-15</td>\n",
       "    </tr>\n",
       "    <tr>\n",
       "      <th>2</th>\n",
       "      <td>3</td>\n",
       "      <td>8</td>\n",
       "      <td>2023-03-20</td>\n",
       "    </tr>\n",
       "    <tr>\n",
       "      <th>3</th>\n",
       "      <td>4</td>\n",
       "      <td>3</td>\n",
       "      <td>2023-04-25</td>\n",
       "    </tr>\n",
       "    <tr>\n",
       "      <th>4</th>\n",
       "      <td>5</td>\n",
       "      <td>7</td>\n",
       "      <td>2023-05-30</td>\n",
       "    </tr>\n",
       "    <tr>\n",
       "      <th>0</th>\n",
       "      <td>1</td>\n",
       "      <td>6</td>\n",
       "      <td>2024-01-12</td>\n",
       "    </tr>\n",
       "    <tr>\n",
       "      <th>1</th>\n",
       "      <td>2</td>\n",
       "      <td>4</td>\n",
       "      <td>2024-02-18</td>\n",
       "    </tr>\n",
       "    <tr>\n",
       "      <th>2</th>\n",
       "      <td>3</td>\n",
       "      <td>9</td>\n",
       "      <td>2024-03-22</td>\n",
       "    </tr>\n",
       "    <tr>\n",
       "      <th>3</th>\n",
       "      <td>4</td>\n",
       "      <td>2</td>\n",
       "      <td>2024-04-28</td>\n",
       "    </tr>\n",
       "    <tr>\n",
       "      <th>4</th>\n",
       "      <td>5</td>\n",
       "      <td>8</td>\n",
       "      <td>2024-05-31</td>\n",
       "    </tr>\n",
       "  </tbody>\n",
       "</table>\n",
       "</div>"
      ],
      "text/plain": [
       "   producto_id  cantidad fecha_venta\n",
       "0            1        10  2023-01-10\n",
       "1            2         5  2023-02-15\n",
       "2            3         8  2023-03-20\n",
       "3            4         3  2023-04-25\n",
       "4            5         7  2023-05-30\n",
       "0            1         6  2024-01-12\n",
       "1            2         4  2024-02-18\n",
       "2            3         9  2024-03-22\n",
       "3            4         2  2024-04-28\n",
       "4            5         8  2024-05-31"
      ]
     },
     "execution_count": 70,
     "metadata": {},
     "output_type": "execute_result"
    }
   ],
   "source": [
    "# Mostrar el dataframe de ventas actualizado.\n",
    "ventas_df"
   ]
  },
  {
   "cell_type": "code",
   "execution_count": 71,
   "metadata": {},
   "outputs": [
    {
     "name": "stdout",
     "output_type": "stream",
     "text": [
      "0    101\n",
      "1    102\n",
      "2    103\n",
      "3    104\n",
      "4    105\n",
      "0    201\n",
      "1    202\n",
      "2    203\n",
      "3    204\n",
      "4    205\n",
      "Name: venta_id, dtype: int64\n"
     ]
    }
   ],
   "source": [
    "# Mostrar el log de la columna eliminada.\n",
    "if del_log is None:\n",
    "    # Mostrar mensaje de advertencia en caso de que no se encuentren logs.\n",
    "    print(\"Advertencia: No se creó un log de columnas eliminadas porque no se han eliminado columnas o porque las columnas que se intentaron eliminar no existen.\")\n",
    "else:\n",
    "    # Imprimir información del log.\n",
    "    print(del_log)"
   ]
  },
  {
   "cell_type": "markdown",
   "metadata": {},
   "source": [
    "### Agregar información de productos."
   ]
  },
  {
   "cell_type": "code",
   "execution_count": 72,
   "metadata": {},
   "outputs": [],
   "source": [
    "# Combinar dataframe de ventas con el de productos.\n",
    "## Se usa el outer join para incluir también todos los datos en donde algún producto no esté en una de las dos tablas.\n",
    "ventas_df = ventas_df.merge(prod_df, how = \"outer\", on = \"producto_id\")"
   ]
  },
  {
   "cell_type": "code",
   "execution_count": 73,
   "metadata": {},
   "outputs": [
    {
     "data": {
      "text/html": [
       "<div>\n",
       "<style scoped>\n",
       "    .dataframe tbody tr th:only-of-type {\n",
       "        vertical-align: middle;\n",
       "    }\n",
       "\n",
       "    .dataframe tbody tr th {\n",
       "        vertical-align: top;\n",
       "    }\n",
       "\n",
       "    .dataframe thead th {\n",
       "        text-align: right;\n",
       "    }\n",
       "</style>\n",
       "<table border=\"1\" class=\"dataframe\">\n",
       "  <thead>\n",
       "    <tr style=\"text-align: right;\">\n",
       "      <th></th>\n",
       "      <th>producto_id</th>\n",
       "      <th>cantidad</th>\n",
       "      <th>fecha_venta</th>\n",
       "      <th>nombre</th>\n",
       "      <th>categoria</th>\n",
       "      <th>precio</th>\n",
       "    </tr>\n",
       "  </thead>\n",
       "  <tbody>\n",
       "    <tr>\n",
       "      <th>0</th>\n",
       "      <td>1</td>\n",
       "      <td>10</td>\n",
       "      <td>2023-01-10</td>\n",
       "      <td>Producto A</td>\n",
       "      <td>Electronica</td>\n",
       "      <td>100</td>\n",
       "    </tr>\n",
       "    <tr>\n",
       "      <th>1</th>\n",
       "      <td>1</td>\n",
       "      <td>6</td>\n",
       "      <td>2024-01-12</td>\n",
       "      <td>Producto A</td>\n",
       "      <td>Electronica</td>\n",
       "      <td>100</td>\n",
       "    </tr>\n",
       "    <tr>\n",
       "      <th>2</th>\n",
       "      <td>2</td>\n",
       "      <td>5</td>\n",
       "      <td>2023-02-15</td>\n",
       "      <td>Producto B</td>\n",
       "      <td>Electronica</td>\n",
       "      <td>150</td>\n",
       "    </tr>\n",
       "    <tr>\n",
       "      <th>3</th>\n",
       "      <td>2</td>\n",
       "      <td>4</td>\n",
       "      <td>2024-02-18</td>\n",
       "      <td>Producto B</td>\n",
       "      <td>Electronica</td>\n",
       "      <td>150</td>\n",
       "    </tr>\n",
       "    <tr>\n",
       "      <th>4</th>\n",
       "      <td>3</td>\n",
       "      <td>8</td>\n",
       "      <td>2023-03-20</td>\n",
       "      <td>Producto C</td>\n",
       "      <td>Ropa</td>\n",
       "      <td>50</td>\n",
       "    </tr>\n",
       "    <tr>\n",
       "      <th>5</th>\n",
       "      <td>3</td>\n",
       "      <td>9</td>\n",
       "      <td>2024-03-22</td>\n",
       "      <td>Producto C</td>\n",
       "      <td>Ropa</td>\n",
       "      <td>50</td>\n",
       "    </tr>\n",
       "    <tr>\n",
       "      <th>6</th>\n",
       "      <td>4</td>\n",
       "      <td>3</td>\n",
       "      <td>2023-04-25</td>\n",
       "      <td>Producto D</td>\n",
       "      <td>Ropa</td>\n",
       "      <td>80</td>\n",
       "    </tr>\n",
       "    <tr>\n",
       "      <th>7</th>\n",
       "      <td>4</td>\n",
       "      <td>2</td>\n",
       "      <td>2024-04-28</td>\n",
       "      <td>Producto D</td>\n",
       "      <td>Ropa</td>\n",
       "      <td>80</td>\n",
       "    </tr>\n",
       "    <tr>\n",
       "      <th>8</th>\n",
       "      <td>5</td>\n",
       "      <td>7</td>\n",
       "      <td>2023-05-30</td>\n",
       "      <td>Producto E</td>\n",
       "      <td>Hogar</td>\n",
       "      <td>120</td>\n",
       "    </tr>\n",
       "    <tr>\n",
       "      <th>9</th>\n",
       "      <td>5</td>\n",
       "      <td>8</td>\n",
       "      <td>2024-05-31</td>\n",
       "      <td>Producto E</td>\n",
       "      <td>Hogar</td>\n",
       "      <td>120</td>\n",
       "    </tr>\n",
       "  </tbody>\n",
       "</table>\n",
       "</div>"
      ],
      "text/plain": [
       "   producto_id  cantidad fecha_venta      nombre    categoria  precio\n",
       "0            1        10  2023-01-10  Producto A  Electronica     100\n",
       "1            1         6  2024-01-12  Producto A  Electronica     100\n",
       "2            2         5  2023-02-15  Producto B  Electronica     150\n",
       "3            2         4  2024-02-18  Producto B  Electronica     150\n",
       "4            3         8  2023-03-20  Producto C         Ropa      50\n",
       "5            3         9  2024-03-22  Producto C         Ropa      50\n",
       "6            4         3  2023-04-25  Producto D         Ropa      80\n",
       "7            4         2  2024-04-28  Producto D         Ropa      80\n",
       "8            5         7  2023-05-30  Producto E        Hogar     120\n",
       "9            5         8  2024-05-31  Producto E        Hogar     120"
      ]
     },
     "execution_count": 73,
     "metadata": {},
     "output_type": "execute_result"
    }
   ],
   "source": [
    "# Visualizar dataframe.\n",
    "ventas_df"
   ]
  },
  {
   "cell_type": "code",
   "execution_count": 74,
   "metadata": {},
   "outputs": [
    {
     "name": "stdout",
     "output_type": "stream",
     "text": [
      "No se encontraron registros con valores faltantes.\n"
     ]
    }
   ],
   "source": [
    "# Revisar que haya valores faltantes.\n",
    "if bool(ventas_df.isnull().any(axis = 1).any()) is True:\n",
    "    # Si hay valores faltantes en alguna columna se creará un registro de todas las filas con valores faltantes.\n",
    "    ventas_null_df = ventas_df[ventas_df.isnull().any(axis = 1)]\n",
    "    # Quitar los registros con valores faltantes del dataframe de ventas.\n",
    "    ventas_df = ventas_df.dropna()\n",
    "    print(\"Se encontraron registros con datos faltantes.\")\n",
    "else:\n",
    "    # Crear un dataframe vacío.\n",
    "    ventas_null_df = pd.DataFrame(columns = ventas_df.columns)\n",
    "    print(\"No se encontraron registros con valores faltantes.\")"
   ]
  },
  {
   "cell_type": "code",
   "execution_count": 75,
   "metadata": {},
   "outputs": [
    {
     "data": {
      "text/html": [
       "<div>\n",
       "<style scoped>\n",
       "    .dataframe tbody tr th:only-of-type {\n",
       "        vertical-align: middle;\n",
       "    }\n",
       "\n",
       "    .dataframe tbody tr th {\n",
       "        vertical-align: top;\n",
       "    }\n",
       "\n",
       "    .dataframe thead th {\n",
       "        text-align: right;\n",
       "    }\n",
       "</style>\n",
       "<table border=\"1\" class=\"dataframe\">\n",
       "  <thead>\n",
       "    <tr style=\"text-align: right;\">\n",
       "      <th></th>\n",
       "      <th>producto_id</th>\n",
       "      <th>cantidad</th>\n",
       "      <th>fecha_venta</th>\n",
       "      <th>nombre</th>\n",
       "      <th>categoria</th>\n",
       "      <th>precio</th>\n",
       "    </tr>\n",
       "  </thead>\n",
       "  <tbody>\n",
       "    <tr>\n",
       "      <th>0</th>\n",
       "      <td>1</td>\n",
       "      <td>10</td>\n",
       "      <td>2023-01-10</td>\n",
       "      <td>Producto A</td>\n",
       "      <td>Electronica</td>\n",
       "      <td>100</td>\n",
       "    </tr>\n",
       "    <tr>\n",
       "      <th>1</th>\n",
       "      <td>1</td>\n",
       "      <td>6</td>\n",
       "      <td>2024-01-12</td>\n",
       "      <td>Producto A</td>\n",
       "      <td>Electronica</td>\n",
       "      <td>100</td>\n",
       "    </tr>\n",
       "    <tr>\n",
       "      <th>2</th>\n",
       "      <td>2</td>\n",
       "      <td>5</td>\n",
       "      <td>2023-02-15</td>\n",
       "      <td>Producto B</td>\n",
       "      <td>Electronica</td>\n",
       "      <td>150</td>\n",
       "    </tr>\n",
       "    <tr>\n",
       "      <th>3</th>\n",
       "      <td>2</td>\n",
       "      <td>4</td>\n",
       "      <td>2024-02-18</td>\n",
       "      <td>Producto B</td>\n",
       "      <td>Electronica</td>\n",
       "      <td>150</td>\n",
       "    </tr>\n",
       "    <tr>\n",
       "      <th>4</th>\n",
       "      <td>3</td>\n",
       "      <td>8</td>\n",
       "      <td>2023-03-20</td>\n",
       "      <td>Producto C</td>\n",
       "      <td>Ropa</td>\n",
       "      <td>50</td>\n",
       "    </tr>\n",
       "    <tr>\n",
       "      <th>5</th>\n",
       "      <td>3</td>\n",
       "      <td>9</td>\n",
       "      <td>2024-03-22</td>\n",
       "      <td>Producto C</td>\n",
       "      <td>Ropa</td>\n",
       "      <td>50</td>\n",
       "    </tr>\n",
       "    <tr>\n",
       "      <th>6</th>\n",
       "      <td>4</td>\n",
       "      <td>3</td>\n",
       "      <td>2023-04-25</td>\n",
       "      <td>Producto D</td>\n",
       "      <td>Ropa</td>\n",
       "      <td>80</td>\n",
       "    </tr>\n",
       "    <tr>\n",
       "      <th>7</th>\n",
       "      <td>4</td>\n",
       "      <td>2</td>\n",
       "      <td>2024-04-28</td>\n",
       "      <td>Producto D</td>\n",
       "      <td>Ropa</td>\n",
       "      <td>80</td>\n",
       "    </tr>\n",
       "    <tr>\n",
       "      <th>8</th>\n",
       "      <td>5</td>\n",
       "      <td>7</td>\n",
       "      <td>2023-05-30</td>\n",
       "      <td>Producto E</td>\n",
       "      <td>Hogar</td>\n",
       "      <td>120</td>\n",
       "    </tr>\n",
       "    <tr>\n",
       "      <th>9</th>\n",
       "      <td>5</td>\n",
       "      <td>8</td>\n",
       "      <td>2024-05-31</td>\n",
       "      <td>Producto E</td>\n",
       "      <td>Hogar</td>\n",
       "      <td>120</td>\n",
       "    </tr>\n",
       "  </tbody>\n",
       "</table>\n",
       "</div>"
      ],
      "text/plain": [
       "   producto_id  cantidad fecha_venta      nombre    categoria  precio\n",
       "0            1        10  2023-01-10  Producto A  Electronica     100\n",
       "1            1         6  2024-01-12  Producto A  Electronica     100\n",
       "2            2         5  2023-02-15  Producto B  Electronica     150\n",
       "3            2         4  2024-02-18  Producto B  Electronica     150\n",
       "4            3         8  2023-03-20  Producto C         Ropa      50\n",
       "5            3         9  2024-03-22  Producto C         Ropa      50\n",
       "6            4         3  2023-04-25  Producto D         Ropa      80\n",
       "7            4         2  2024-04-28  Producto D         Ropa      80\n",
       "8            5         7  2023-05-30  Producto E        Hogar     120\n",
       "9            5         8  2024-05-31  Producto E        Hogar     120"
      ]
     },
     "execution_count": 75,
     "metadata": {},
     "output_type": "execute_result"
    }
   ],
   "source": [
    "# Imprimir dataframe de ventas limpio.\n",
    "ventas_df"
   ]
  },
  {
   "cell_type": "code",
   "execution_count": 76,
   "metadata": {},
   "outputs": [
    {
     "name": "stdout",
     "output_type": "stream",
     "text": [
      "No se hizo un reporte de ventas con datos faltantes porque no se encontró ninguna.\n"
     ]
    }
   ],
   "source": [
    "# Imprimir registro de ventas faltantes en caso de que exista y tenga datos, de lo contrario imprimir mensaje de no registros.\n",
    "print(ventas_null_df if ventas_null_df.empty is False else \"No se hizo un reporte de ventas con datos faltantes porque no se encontró ninguna.\")"
   ]
  },
  {
   "cell_type": "markdown",
   "metadata": {},
   "source": [
    "### Cálculo de ingresos."
   ]
  },
  {
   "cell_type": "code",
   "execution_count": 77,
   "metadata": {},
   "outputs": [
    {
     "data": {
      "text/html": [
       "<div>\n",
       "<style scoped>\n",
       "    .dataframe tbody tr th:only-of-type {\n",
       "        vertical-align: middle;\n",
       "    }\n",
       "\n",
       "    .dataframe tbody tr th {\n",
       "        vertical-align: top;\n",
       "    }\n",
       "\n",
       "    .dataframe thead th {\n",
       "        text-align: right;\n",
       "    }\n",
       "</style>\n",
       "<table border=\"1\" class=\"dataframe\">\n",
       "  <thead>\n",
       "    <tr style=\"text-align: right;\">\n",
       "      <th></th>\n",
       "      <th>producto_id</th>\n",
       "      <th>cantidad</th>\n",
       "      <th>fecha_venta</th>\n",
       "      <th>nombre</th>\n",
       "      <th>categoria</th>\n",
       "      <th>precio</th>\n",
       "      <th>ingresos</th>\n",
       "    </tr>\n",
       "  </thead>\n",
       "  <tbody>\n",
       "    <tr>\n",
       "      <th>0</th>\n",
       "      <td>1</td>\n",
       "      <td>10</td>\n",
       "      <td>2023-01-10</td>\n",
       "      <td>Producto A</td>\n",
       "      <td>Electronica</td>\n",
       "      <td>100</td>\n",
       "      <td>1000</td>\n",
       "    </tr>\n",
       "    <tr>\n",
       "      <th>1</th>\n",
       "      <td>1</td>\n",
       "      <td>6</td>\n",
       "      <td>2024-01-12</td>\n",
       "      <td>Producto A</td>\n",
       "      <td>Electronica</td>\n",
       "      <td>100</td>\n",
       "      <td>600</td>\n",
       "    </tr>\n",
       "    <tr>\n",
       "      <th>2</th>\n",
       "      <td>2</td>\n",
       "      <td>5</td>\n",
       "      <td>2023-02-15</td>\n",
       "      <td>Producto B</td>\n",
       "      <td>Electronica</td>\n",
       "      <td>150</td>\n",
       "      <td>750</td>\n",
       "    </tr>\n",
       "    <tr>\n",
       "      <th>3</th>\n",
       "      <td>2</td>\n",
       "      <td>4</td>\n",
       "      <td>2024-02-18</td>\n",
       "      <td>Producto B</td>\n",
       "      <td>Electronica</td>\n",
       "      <td>150</td>\n",
       "      <td>600</td>\n",
       "    </tr>\n",
       "    <tr>\n",
       "      <th>4</th>\n",
       "      <td>3</td>\n",
       "      <td>8</td>\n",
       "      <td>2023-03-20</td>\n",
       "      <td>Producto C</td>\n",
       "      <td>Ropa</td>\n",
       "      <td>50</td>\n",
       "      <td>400</td>\n",
       "    </tr>\n",
       "    <tr>\n",
       "      <th>5</th>\n",
       "      <td>3</td>\n",
       "      <td>9</td>\n",
       "      <td>2024-03-22</td>\n",
       "      <td>Producto C</td>\n",
       "      <td>Ropa</td>\n",
       "      <td>50</td>\n",
       "      <td>450</td>\n",
       "    </tr>\n",
       "    <tr>\n",
       "      <th>6</th>\n",
       "      <td>4</td>\n",
       "      <td>3</td>\n",
       "      <td>2023-04-25</td>\n",
       "      <td>Producto D</td>\n",
       "      <td>Ropa</td>\n",
       "      <td>80</td>\n",
       "      <td>240</td>\n",
       "    </tr>\n",
       "    <tr>\n",
       "      <th>7</th>\n",
       "      <td>4</td>\n",
       "      <td>2</td>\n",
       "      <td>2024-04-28</td>\n",
       "      <td>Producto D</td>\n",
       "      <td>Ropa</td>\n",
       "      <td>80</td>\n",
       "      <td>160</td>\n",
       "    </tr>\n",
       "    <tr>\n",
       "      <th>8</th>\n",
       "      <td>5</td>\n",
       "      <td>7</td>\n",
       "      <td>2023-05-30</td>\n",
       "      <td>Producto E</td>\n",
       "      <td>Hogar</td>\n",
       "      <td>120</td>\n",
       "      <td>840</td>\n",
       "    </tr>\n",
       "    <tr>\n",
       "      <th>9</th>\n",
       "      <td>5</td>\n",
       "      <td>8</td>\n",
       "      <td>2024-05-31</td>\n",
       "      <td>Producto E</td>\n",
       "      <td>Hogar</td>\n",
       "      <td>120</td>\n",
       "      <td>960</td>\n",
       "    </tr>\n",
       "  </tbody>\n",
       "</table>\n",
       "</div>"
      ],
      "text/plain": [
       "   producto_id  cantidad fecha_venta      nombre    categoria  precio  \\\n",
       "0            1        10  2023-01-10  Producto A  Electronica     100   \n",
       "1            1         6  2024-01-12  Producto A  Electronica     100   \n",
       "2            2         5  2023-02-15  Producto B  Electronica     150   \n",
       "3            2         4  2024-02-18  Producto B  Electronica     150   \n",
       "4            3         8  2023-03-20  Producto C         Ropa      50   \n",
       "5            3         9  2024-03-22  Producto C         Ropa      50   \n",
       "6            4         3  2023-04-25  Producto D         Ropa      80   \n",
       "7            4         2  2024-04-28  Producto D         Ropa      80   \n",
       "8            5         7  2023-05-30  Producto E        Hogar     120   \n",
       "9            5         8  2024-05-31  Producto E        Hogar     120   \n",
       "\n",
       "   ingresos  \n",
       "0      1000  \n",
       "1       600  \n",
       "2       750  \n",
       "3       600  \n",
       "4       400  \n",
       "5       450  \n",
       "6       240  \n",
       "7       160  \n",
       "8       840  \n",
       "9       960  "
      ]
     },
     "execution_count": 77,
     "metadata": {},
     "output_type": "execute_result"
    }
   ],
   "source": [
    "# Crear columna de ingresos y calcular el ingreso.\n",
    "ventas_df['ingresos'] = ventas_df['cantidad'] * ventas_df['precio']\n",
    "\n",
    "# Verificar que no haya ningún valor negativo en la columna de ingresos.\n",
    "if bool((ventas_df['ingresos'] < 0).any()) is True:\n",
    "    # Quitar filas con valores negativos.\n",
    "    ventas_df.drop(ventas_df['ingresos'] < 0)\n",
    "\n",
    "# Ver el dataframe actualizado.\n",
    "ventas_df"
   ]
  },
  {
   "cell_type": "markdown",
   "metadata": {},
   "source": [
    "### Análisis de ventas por categoría."
   ]
  },
  {
   "cell_type": "code",
   "execution_count": 78,
   "metadata": {},
   "outputs": [
    {
     "data": {
      "text/html": [
       "<div>\n",
       "<style scoped>\n",
       "    .dataframe tbody tr th:only-of-type {\n",
       "        vertical-align: middle;\n",
       "    }\n",
       "\n",
       "    .dataframe tbody tr th {\n",
       "        vertical-align: top;\n",
       "    }\n",
       "\n",
       "    .dataframe thead th {\n",
       "        text-align: right;\n",
       "    }\n",
       "</style>\n",
       "<table border=\"1\" class=\"dataframe\">\n",
       "  <thead>\n",
       "    <tr style=\"text-align: right;\">\n",
       "      <th></th>\n",
       "      <th>ingresos</th>\n",
       "      <th>num_ventas</th>\n",
       "    </tr>\n",
       "    <tr>\n",
       "      <th>categoria</th>\n",
       "      <th></th>\n",
       "      <th></th>\n",
       "    </tr>\n",
       "  </thead>\n",
       "  <tbody>\n",
       "    <tr>\n",
       "      <th>Electronica</th>\n",
       "      <td>2950</td>\n",
       "      <td>4</td>\n",
       "    </tr>\n",
       "    <tr>\n",
       "      <th>Hogar</th>\n",
       "      <td>1800</td>\n",
       "      <td>2</td>\n",
       "    </tr>\n",
       "    <tr>\n",
       "      <th>Ropa</th>\n",
       "      <td>1250</td>\n",
       "      <td>4</td>\n",
       "    </tr>\n",
       "  </tbody>\n",
       "</table>\n",
       "</div>"
      ],
      "text/plain": [
       "             ingresos  num_ventas\n",
       "categoria                        \n",
       "Electronica      2950           4\n",
       "Hogar            1800           2\n",
       "Ropa             1250           4"
      ]
     },
     "execution_count": 78,
     "metadata": {},
     "output_type": "execute_result"
    }
   ],
   "source": [
    "# Columna de número de ventas.\n",
    "## Se llena la columna nueva de unos porque cada fila representa una venta.\n",
    "ventas_df['num_ventas'] = ventas_df.apply(lambda row: 1, axis = 1)\n",
    "\n",
    "# Agrupar ingresos y número de ventas por categoría y guardar en una variable.\n",
    "results = ventas_df[['ingresos', 'num_ventas', 'categoria']].groupby(['categoria']).sum()\n",
    "\n",
    "# Imprimir resultados.\n",
    "results"
   ]
  },
  {
   "cell_type": "code",
   "execution_count": 79,
   "metadata": {},
   "outputs": [
    {
     "data": {
      "text/plain": [
       "<Axes: title={'center': 'Ingresos por categoría'}, xlabel='categoria', ylabel='ingresos'>"
      ]
     },
     "execution_count": 79,
     "metadata": {},
     "output_type": "execute_result"
    },
    {
     "data": {
      "image/png": "[encoded data removed]",
      "text/plain": [
       "<Figure size 1000x600 with 1 Axes>"
      ]
     },
     "metadata": {},
     "output_type": "display_data"
    }
   ],
   "source": [
    "# Gráfico de ingresos por categoría.\n",
    "plt.figure(figsize = (10, 6))\n",
    "plt.title(\"Ingresos por categoría\")\n",
    "sns.barplot(results['ingresos'])"
   ]
  },
  {
   "cell_type": "markdown",
   "metadata": {},
   "source": [
    "### Filtrar datos del 2024."
   ]
  },
  {
   "cell_type": "code",
   "execution_count": 80,
   "metadata": {},
   "outputs": [
    {
     "data": {
      "text/html": [
       "<div>\n",
       "<style scoped>\n",
       "    .dataframe tbody tr th:only-of-type {\n",
       "        vertical-align: middle;\n",
       "    }\n",
       "\n",
       "    .dataframe tbody tr th {\n",
       "        vertical-align: top;\n",
       "    }\n",
       "\n",
       "    .dataframe thead th {\n",
       "        text-align: right;\n",
       "    }\n",
       "</style>\n",
       "<table border=\"1\" class=\"dataframe\">\n",
       "  <thead>\n",
       "    <tr style=\"text-align: right;\">\n",
       "      <th></th>\n",
       "      <th>producto_id</th>\n",
       "      <th>cantidad</th>\n",
       "      <th>fecha_venta</th>\n",
       "      <th>nombre</th>\n",
       "      <th>categoria</th>\n",
       "      <th>precio</th>\n",
       "      <th>ingresos</th>\n",
       "      <th>num_ventas</th>\n",
       "    </tr>\n",
       "  </thead>\n",
       "  <tbody>\n",
       "    <tr>\n",
       "      <th>1</th>\n",
       "      <td>1</td>\n",
       "      <td>6</td>\n",
       "      <td>2024-01-12</td>\n",
       "      <td>Producto A</td>\n",
       "      <td>Electronica</td>\n",
       "      <td>100</td>\n",
       "      <td>600</td>\n",
       "      <td>1</td>\n",
       "    </tr>\n",
       "    <tr>\n",
       "      <th>3</th>\n",
       "      <td>2</td>\n",
       "      <td>4</td>\n",
       "      <td>2024-02-18</td>\n",
       "      <td>Producto B</td>\n",
       "      <td>Electronica</td>\n",
       "      <td>150</td>\n",
       "      <td>600</td>\n",
       "      <td>1</td>\n",
       "    </tr>\n",
       "    <tr>\n",
       "      <th>5</th>\n",
       "      <td>3</td>\n",
       "      <td>9</td>\n",
       "      <td>2024-03-22</td>\n",
       "      <td>Producto C</td>\n",
       "      <td>Ropa</td>\n",
       "      <td>50</td>\n",
       "      <td>450</td>\n",
       "      <td>1</td>\n",
       "    </tr>\n",
       "    <tr>\n",
       "      <th>7</th>\n",
       "      <td>4</td>\n",
       "      <td>2</td>\n",
       "      <td>2024-04-28</td>\n",
       "      <td>Producto D</td>\n",
       "      <td>Ropa</td>\n",
       "      <td>80</td>\n",
       "      <td>160</td>\n",
       "      <td>1</td>\n",
       "    </tr>\n",
       "    <tr>\n",
       "      <th>9</th>\n",
       "      <td>5</td>\n",
       "      <td>8</td>\n",
       "      <td>2024-05-31</td>\n",
       "      <td>Producto E</td>\n",
       "      <td>Hogar</td>\n",
       "      <td>120</td>\n",
       "      <td>960</td>\n",
       "      <td>1</td>\n",
       "    </tr>\n",
       "  </tbody>\n",
       "</table>\n",
       "</div>"
      ],
      "text/plain": [
       "   producto_id  cantidad fecha_venta      nombre    categoria  precio  \\\n",
       "1            1         6  2024-01-12  Producto A  Electronica     100   \n",
       "3            2         4  2024-02-18  Producto B  Electronica     150   \n",
       "5            3         9  2024-03-22  Producto C         Ropa      50   \n",
       "7            4         2  2024-04-28  Producto D         Ropa      80   \n",
       "9            5         8  2024-05-31  Producto E        Hogar     120   \n",
       "\n",
       "   ingresos  num_ventas  \n",
       "1       600           1  \n",
       "3       600           1  \n",
       "5       450           1  \n",
       "7       160           1  \n",
       "9       960           1  "
      ]
     },
     "execution_count": 80,
     "metadata": {},
     "output_type": "execute_result"
    }
   ],
   "source": [
    "# Filtrar ventas del 2024 y guardar en una variable.\n",
    "filtro_2024_df = ventas_df[ventas_df['fecha_venta'].between('2024-01-01', '2024-12-31')]\n",
    "\n",
    "# Ver resultados.\n",
    "filtro_2024_df"
   ]
  },
  {
   "cell_type": "code",
   "execution_count": 81,
   "metadata": {},
   "outputs": [
    {
     "name": "stdout",
     "output_type": "stream",
     "text": [
      "Ingresos en el 2024: 2770\n",
      "Ingresos totales: 6000\n",
      "Diferencia: 3230\n"
     ]
    }
   ],
   "source": [
    "# Calcular ingresos totales y en el 2024.\n",
    "i_tot = ventas_df['ingresos'].sum()\n",
    "i_2024 = filtro_2024_df['ingresos'].sum()\n",
    "\n",
    "# Imprmir comparación.\n",
    "print(\"Ingresos en el 2024: {}\\nIngresos totales: {}\\nDiferencia: {}\".format(i_2024, i_tot, abs(i_2024 - i_tot)))"
   ]
  },
  {
   "cell_type": "markdown",
   "metadata": {},
   "source": [
    "### Estadísticas descriptivas para las ventas del 2024."
   ]
  },
  {
   "cell_type": "code",
   "execution_count": 82,
   "metadata": {},
   "outputs": [
    {
     "data": {
      "text/html": [
       "<div>\n",
       "<style scoped>\n",
       "    .dataframe tbody tr th:only-of-type {\n",
       "        vertical-align: middle;\n",
       "    }\n",
       "\n",
       "    .dataframe tbody tr th {\n",
       "        vertical-align: top;\n",
       "    }\n",
       "\n",
       "    .dataframe thead th {\n",
       "        text-align: right;\n",
       "    }\n",
       "</style>\n",
       "<table border=\"1\" class=\"dataframe\">\n",
       "  <thead>\n",
       "    <tr style=\"text-align: right;\">\n",
       "      <th></th>\n",
       "      <th>mean</th>\n",
       "      <th>median</th>\n",
       "      <th>std</th>\n",
       "    </tr>\n",
       "    <tr>\n",
       "      <th>categoria</th>\n",
       "      <th></th>\n",
       "      <th></th>\n",
       "      <th></th>\n",
       "    </tr>\n",
       "  </thead>\n",
       "  <tbody>\n",
       "    <tr>\n",
       "      <th>Electronica</th>\n",
       "      <td>600.0</td>\n",
       "      <td>600.0</td>\n",
       "      <td>0.000000</td>\n",
       "    </tr>\n",
       "    <tr>\n",
       "      <th>Hogar</th>\n",
       "      <td>960.0</td>\n",
       "      <td>960.0</td>\n",
       "      <td>NaN</td>\n",
       "    </tr>\n",
       "    <tr>\n",
       "      <th>Ropa</th>\n",
       "      <td>305.0</td>\n",
       "      <td>305.0</td>\n",
       "      <td>205.060967</td>\n",
       "    </tr>\n",
       "  </tbody>\n",
       "</table>\n",
       "</div>"
      ],
      "text/plain": [
       "              mean  median         std\n",
       "categoria                             \n",
       "Electronica  600.0   600.0    0.000000\n",
       "Hogar        960.0   960.0         NaN\n",
       "Ropa         305.0   305.0  205.060967"
      ]
     },
     "execution_count": 82,
     "metadata": {},
     "output_type": "execute_result"
    }
   ],
   "source": [
    "# Media, mediana y desviación estándar de los ingresos por categoría del año 2024.\n",
    "filtro_2024_df.groupby(['categoria']).ingresos.agg(['mean', 'median', 'std'])"
   ]
  },
  {
   "cell_type": "code",
   "execution_count": 83,
   "metadata": {},
   "outputs": [
    {
     "data": {
      "text/html": [
       "<div>\n",
       "<style scoped>\n",
       "    .dataframe tbody tr th:only-of-type {\n",
       "        vertical-align: middle;\n",
       "    }\n",
       "\n",
       "    .dataframe tbody tr th {\n",
       "        vertical-align: top;\n",
       "    }\n",
       "\n",
       "    .dataframe thead th {\n",
       "        text-align: right;\n",
       "    }\n",
       "</style>\n",
       "<table border=\"1\" class=\"dataframe\">\n",
       "  <thead>\n",
       "    <tr style=\"text-align: right;\">\n",
       "      <th></th>\n",
       "      <th>ingresos</th>\n",
       "    </tr>\n",
       "  </thead>\n",
       "  <tbody>\n",
       "    <tr>\n",
       "      <th>1</th>\n",
       "      <td>3.0</td>\n",
       "    </tr>\n",
       "    <tr>\n",
       "      <th>3</th>\n",
       "      <td>4.0</td>\n",
       "    </tr>\n",
       "    <tr>\n",
       "      <th>5</th>\n",
       "      <td>2.0</td>\n",
       "    </tr>\n",
       "    <tr>\n",
       "      <th>7</th>\n",
       "      <td>1.0</td>\n",
       "    </tr>\n",
       "    <tr>\n",
       "      <th>9</th>\n",
       "      <td>5.0</td>\n",
       "    </tr>\n",
       "  </tbody>\n",
       "</table>\n",
       "</div>"
      ],
      "text/plain": [
       "   ingresos\n",
       "1       3.0\n",
       "3       4.0\n",
       "5       2.0\n",
       "7       1.0\n",
       "9       5.0"
      ]
     },
     "execution_count": 83,
     "metadata": {},
     "output_type": "execute_result"
    }
   ],
   "source": [
    "# Rango de los ingresos.\n",
    "filtro_2024_df[['ingresos']].rank(method = 'first')"
   ]
  },
  {
   "cell_type": "code",
   "execution_count": 84,
   "metadata": {},
   "outputs": [
    {
     "data": {
      "text/html": [
       "<div>\n",
       "<style scoped>\n",
       "    .dataframe tbody tr th:only-of-type {\n",
       "        vertical-align: middle;\n",
       "    }\n",
       "\n",
       "    .dataframe tbody tr th {\n",
       "        vertical-align: top;\n",
       "    }\n",
       "\n",
       "    .dataframe thead th {\n",
       "        text-align: right;\n",
       "    }\n",
       "</style>\n",
       "<table border=\"1\" class=\"dataframe\">\n",
       "  <thead>\n",
       "    <tr style=\"text-align: right;\">\n",
       "      <th></th>\n",
       "      <th>ingresos</th>\n",
       "    </tr>\n",
       "  </thead>\n",
       "  <tbody>\n",
       "    <tr>\n",
       "      <th>0</th>\n",
       "      <td>600</td>\n",
       "    </tr>\n",
       "  </tbody>\n",
       "</table>\n",
       "</div>"
      ],
      "text/plain": [
       "   ingresos\n",
       "0       600"
      ]
     },
     "execution_count": 84,
     "metadata": {},
     "output_type": "execute_result"
    }
   ],
   "source": [
    "# Moda de los ingresos.\n",
    "filtro_2024_df[['ingresos']].mode()"
   ]
  },
  {
   "cell_type": "code",
   "execution_count": 85,
   "metadata": {},
   "outputs": [
    {
     "data": {
      "text/plain": [
       "<Axes: title={'center': 'Ingresos por categoría para el año 2024'}, xlabel='categoria', ylabel='ingresos'>"
      ]
     },
     "execution_count": 85,
     "metadata": {},
     "output_type": "execute_result"
    },
    {
     "data": {
      "image/png": "[encoded data removed]",
      "text/plain": [
       "<Figure size 1000x600 with 1 Axes>"
      ]
     },
     "metadata": {},
     "output_type": "display_data"
    }
   ],
   "source": [
    "# Agrupar los ingresos por categoría y hacer la suma.\n",
    "tmp = filtro_2024_df[['ingresos', 'categoria']].groupby('categoria').sum()\n",
    "# Crear gráfico de barras de los ingresos por categoría.\n",
    "plt.figure(figsize = (10, 6))\n",
    "plt.title(\"Ingresos por categoría para el año 2024\")\n",
    "sns.barplot(tmp['ingresos'], )"
   ]
  },
  {
   "cell_type": "code",
   "execution_count": 86,
   "metadata": {},
   "outputs": [
    {
     "data": {
      "text/plain": [
       "<Axes: title={'center': 'Ingresos por año'}, xlabel='año_venta', ylabel='ingresos'>"
      ]
     },
     "execution_count": 86,
     "metadata": {},
     "output_type": "execute_result"
    },
    {
     "data": {
      "image/png": "[encoded data removed]",
      "text/plain": [
       "<Figure size 1000x600 with 1 Axes>"
      ]
     },
     "metadata": {},
     "output_type": "display_data"
    }
   ],
   "source": [
    "# Crear dataframe temporal.\n",
    "tmp = ventas_df\n",
    "# Añadir una columna de año al dataframe temporal.\n",
    "tmp['año_venta'] = tmp.apply(lambda row: \"2024\" if row.fecha_venta.startswith(\"2024\") else \"2023\", axis = 1)\n",
    "# Agrupar los ingresos por año.\n",
    "tmp = tmp[['ingresos', 'año_venta']].groupby('año_venta').sum()\n",
    "# Crear gráfico de barras de ingresos por año.\n",
    "plt.figure(figsize = (10, 6))\n",
    "plt.title(\"Ingresos por año\")\n",
    "sns.barplot(tmp['ingresos'], )"
   ]
  },
  {
   "cell_type": "code",
   "execution_count": 87,
   "metadata": {},
   "outputs": [
    {
     "data": {
      "text/plain": [
       "<Axes: title={'center': 'Ingresos por producto'}, xlabel='nombre', ylabel='ingresos'>"
      ]
     },
     "execution_count": 87,
     "metadata": {},
     "output_type": "execute_result"
    },
    {
     "data": {
      "image/png": "[encoded data removed]",
      "text/plain": [
       "<Figure size 1000x600 with 1 Axes>"
      ]
     },
     "metadata": {},
     "output_type": "display_data"
    }
   ],
   "source": [
    "# Crear dataframe temporal.\n",
    "tmp = ventas_df\n",
    "# Agrupar los ingresos por producto.\n",
    "tmp = tmp[['ingresos', 'nombre']].groupby('nombre').sum()\n",
    "# Crear gráfico de barras de ingresos por producto.\n",
    "plt.figure(figsize = (10, 6))\n",
    "plt.title(\"Ingresos por producto\")\n",
    "sns.barplot(tmp['ingresos'], )"
   ]
  },
  {
   "cell_type": "markdown",
   "metadata": {},
   "source": [
    "### Exportar archivos."
   ]
  },
  {
   "cell_type": "code",
   "execution_count": 88,
   "metadata": {},
   "outputs": [
    {
     "name": "stdout",
     "output_type": "stream",
     "text": [
      "Se creó una carpeta nueva llamada 'results' para almacenar los resultados.\n",
      "\n",
      "Creando archivo...\n",
      "Se creó el archivo 'results/ventas_combinadas.csv' con éxito\n",
      "\n",
      "Creando archivo...\n",
      "Se creó el archivo 'results/ingresos_por_categoria.xlsx' con éxito\n",
      "\n"
     ]
    }
   ],
   "source": [
    "# Crear nombres de archivo.\n",
    "file_dir = \"results\"\n",
    "file_names = ['/ventas_combinadas.csv', '/ingresos_por_categoria.xlsx']\n",
    "file_names = [file_dir + name for name in file_names]\n",
    "\n",
    "# Verificar la existencia del archivo/carpeta.\n",
    "def already_exists(file_path, file_dir):\n",
    "    # Si el directorio no existe, crearlo.\n",
    "    if os.path.exists(file_dir) is False:\n",
    "        os.mkdir(file_dir)\n",
    "        print(\"Se creó una carpeta nueva llamada '{}' para almacenar los resultados.\\n\".format(file_dir))\n",
    "    msg = \"El archivo '{}' ya existe, por lo que se reescribirá con los datos nuevos.\".format(file_path)\n",
    "    # Si el archivo existe, imprimir mensaje de reescritura, de lo contrario imprimir que se está creando el archivo.\n",
    "    print(msg if os.path.exists(file_path) is True else \"Creando archivo...\")\n",
    "\n",
    "# Por archivo en arreglo de nombre de archivos.\n",
    "for file_path in file_names:\n",
    "    # Revisar si ya existen el archivo y carpeta.\n",
    "    already_exists(file_path, file_dir)\n",
    "    # Usar el método de conversión correspondiente a la extensión del archivo.\n",
    "    if \"csv\" in file_path:\n",
    "        ventas_df.to_csv(path_or_buf = file_path)\n",
    "    else:\n",
    "        results.to_excel(file_path)\n",
    "        # Imprimir mensaje de operación exitosa.\n",
    "    print(\"Se creó el archivo '{}' con éxito\\n\".format(file_path))"
   ]
  }
 ],
 "metadata": {
  "kernelspec": {
   "display_name": "Python 3",
   "language": "python",
   "name": "python3"
  },
  "language_info": {
   "codemirror_mode": {
    "name": "ipython",
    "version": 3
   },
   "file_extension": ".py",
   "mimetype": "text/x-python",
   "name": "python",
   "nbconvert_exporter": "python",
   "pygments_lexer": "ipython3",
   "version": "3.11.9"
  }
 },
 "nbformat": 4,
 "nbformat_minor": 2
}
